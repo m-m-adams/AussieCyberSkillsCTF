{
 "cells": [
  {
   "cell_type": "code",
   "execution_count": 2,
   "metadata": {},
   "outputs": [
    {
     "data": {
      "text/plain": [
       "'籯籵籪籰粄籛籘籝籁簹簹簹籏籝籠粆\\n'"
      ]
     },
     "execution_count": 2,
     "metadata": {},
     "output_type": "execute_result"
    }
   ],
   "source": [
    "with open(\"./dontcallmeSir-string.txt\") as f:\n",
    "    chars = f.read()\n",
    "chars"
   ]
  },
  {
   "cell_type": "code",
   "execution_count": 3,
   "metadata": {},
   "outputs": [
    {
     "data": {
      "text/plain": [
       "[31855,\n",
       " 31861,\n",
       " 31850,\n",
       " 31856,\n",
       " 31876,\n",
       " 31835,\n",
       " 31832,\n",
       " 31837,\n",
       " 31809,\n",
       " 31801,\n",
       " 31801,\n",
       " 31801,\n",
       " 31823,\n",
       " 31837,\n",
       " 31840,\n",
       " 31878,\n",
       " 10]"
      ]
     },
     "execution_count": 3,
     "metadata": {},
     "output_type": "execute_result"
    }
   ],
   "source": [
    "codes = [ord(ch) for ch in chars]\n",
    "codes"
   ]
  },
  {
   "cell_type": "code",
   "execution_count": 26,
   "metadata": {},
   "outputs": [],
   "source": [
    "def is_ascii(s):\n",
    "    return all(20 <= ord(c) < 128 for c in s)"
   ]
  },
  {
   "cell_type": "code",
   "execution_count": 37,
   "metadata": {},
   "outputs": [
    {
     "name": "stdout",
     "output_type": "stream",
     "text": [
      "flag{ROT8000FTW}\n"
     ]
    }
   ],
   "source": [
    "#31750 takes the smaller values down to 1, then it's a rot problem\n",
    "for x in range(255):\n",
    "    dec = ''.join([chr(ch-31800+x) for ch in codes[:-1]])\n",
    "    if 'flag' in dec:  \n",
    "        print(dec)"
   ]
  },
  {
   "cell_type": "code",
   "execution_count": 19,
   "metadata": {},
   "outputs": [
    {
     "data": {
      "text/plain": [
       "31783"
      ]
     },
     "execution_count": 19,
     "metadata": {},
     "output_type": "execute_result"
    }
   ],
   "source": [
    "31855^ord('H')"
   ]
  },
  {
   "cell_type": "code",
   "execution_count": null,
   "metadata": {},
   "outputs": [],
   "source": []
  }
 ],
 "metadata": {
  "interpreter": {
   "hash": "596ac16b0cb50fbc454b656b9a41b5699e9d546d34802e5d85a577001f201c07"
  },
  "kernelspec": {
   "display_name": "Python 3.9.5 64-bit ('base': conda)",
   "language": "python",
   "name": "python3"
  },
  "language_info": {
   "codemirror_mode": {
    "name": "ipython",
    "version": 3
   },
   "file_extension": ".py",
   "mimetype": "text/x-python",
   "name": "python",
   "nbconvert_exporter": "python",
   "pygments_lexer": "ipython3",
   "version": "3.9.5"
  },
  "orig_nbformat": 4
 },
 "nbformat": 4,
 "nbformat_minor": 2
}
