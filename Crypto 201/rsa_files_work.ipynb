{
 "cells": [
  {
   "cell_type": "code",
   "execution_count": 1,
   "metadata": {},
   "outputs": [
    {
     "name": "stdout",
     "output_type": "stream",
     "text": [
      "012345553674823932944181106110911626755101037619449946715841073599815964576976112732545952510484774998594651051034210101121055853247754711181059713781062103357631055972107598536106366442497723175686911821081097232108573381035389377662855211682798610109683284785585772109977779861010107737610104678757443110539101023845645136946831029810384259101093810644515103763137741588101482924541477711241158215967638858267581010275104388945110461106519176238103263828326943424113795985464153269138410587108695893677957861010315610101021103104757391749110588366788\n",
      "{'11011': '0', '00111': '1', '10110': '2', '11000': '3', '00001': '4', '10011': '5', '01010': '6', '10000': '7', '10111': '8', '10101': '9', '00110': '10'}\n",
      "{'11011': 1, '00111': 46, '10110': 38, '11000': 49, '00001': 47, '10011': 59, '01010': 47, '10000': 58, '10111': 53, '10101': 44, '00110': 55}\n"
     ]
    }
   ],
   "source": [
    "import gmpy2\n",
    "with open(\"./q.txt\") as f:\n",
    "    raw = f.read().split()\n",
    "\n",
    "class Tokenizer:\n",
    "    def __init__(self):\n",
    "        self.words = {}\n",
    "        self.word_counts={}\n",
    "        self.vocab = 0\n",
    "    \n",
    "    def lookup(self, bin: str) -> str:\n",
    "        if bin in self.words.keys():\n",
    "            self.word_counts[bin]+=1\n",
    "            return self.words[bin]\n",
    "        else:\n",
    "            self.words[bin] = str(self.vocab)\n",
    "            self.word_counts[bin] = 1\n",
    "            self.vocab += 1\n",
    "            return self.words[bin]\n",
    "\n",
    "out=''\n",
    "tokenizer = Tokenizer()\n",
    "for grouping in raw:\n",
    "    out += tokenizer.lookup(grouping)\n",
    "\n",
    "print(out)\n",
    "print(tokenizer.words)\n",
    "print(tokenizer.word_counts)\n"
   ]
  },
  {
   "cell_type": "code",
   "execution_count": 2,
   "metadata": {},
   "outputs": [],
   "source": [
    "baudot = {\n",
    "    '11011':'',\n",
    "    '10111': 1,\n",
    "    '10011': 2,\n",
    "    '00001': 3,\n",
    "    '01010': 4,\n",
    "    '10000': 5,\n",
    "    '10101': 6,\n",
    "    '00111': 7,\n",
    "    '00110': 8, \n",
    "    '11000': 9, \n",
    "    '10110': 0\n",
    "}"
   ]
  },
  {
   "cell_type": "code",
   "execution_count": 3,
   "metadata": {},
   "outputs": [
    {
     "name": "stdout",
     "output_type": "stream",
     "text": [
      "7093222945310969063371784786774045228895476336634572138592661726432546547705902326202831355366126342828930887708221290355235777182657951840899254982265085261294849443303655097524146771081865090812599189291695544012207741056148864190135122125508665555614888559548834515253397829688091324327946341980618913026886918433272895497955372118731060323735557703772107264549112104521880528391163278347842767540918904910190463930377956261234372904679138215814621694556251488972488807898352596753678211944511 True\n"
     ]
    }
   ],
   "source": [
    "q=''\n",
    "tokenizer = Tokenizer()\n",
    "for grouping in raw:\n",
    "    q += str(baudot[grouping])\n",
    "q = int(q,10)\n",
    "print(q, gmpy2.is_prime(q))\n"
   ]
  },
  {
   "cell_type": "code",
   "execution_count": 80,
   "metadata": {},
   "outputs": [
    {
     "data": {
      "text/plain": [
       "False"
      ]
     },
     "execution_count": 80,
     "metadata": {},
     "output_type": "execute_result"
    }
   ],
   "source": [
    "is_prime(int(''.join(raw.split()),4))"
   ]
  },
  {
   "cell_type": "code",
   "execution_count": null,
   "metadata": {},
   "outputs": [],
   "source": []
  }
 ],
 "metadata": {
  "interpreter": {
   "hash": "596ac16b0cb50fbc454b656b9a41b5699e9d546d34802e5d85a577001f201c07"
  },
  "kernelspec": {
   "display_name": "Python 3.9.5 64-bit ('base': conda)",
   "language": "python",
   "name": "python3"
  },
  "language_info": {
   "codemirror_mode": {
    "name": "ipython",
    "version": 3
   },
   "file_extension": ".py",
   "mimetype": "text/x-python",
   "name": "python",
   "nbconvert_exporter": "python",
   "pygments_lexer": "ipython3",
   "version": "3.9.5"
  },
  "orig_nbformat": 4
 },
 "nbformat": 4,
 "nbformat_minor": 2
}
