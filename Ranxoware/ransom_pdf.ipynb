{
 "cells": [
  {
   "cell_type": "code",
   "execution_count": 10,
   "metadata": {},
   "outputs": [
    {
     "name": "stdout",
     "output_type": "stream",
     "text": [
      "b'C<p!rWB\\x00GUWL\\x04G0\\x04\\x06>[clCd\\x068\\x03\\x1f\\x14U\\x7fVLfmp2\\x15D\\x02\\x7fI/U\\x13>\\n\\x03Sma'\n"
     ]
    }
   ],
   "source": [
    "with open(\"./credit.pdf.rans\", \"rb\") as f:\n",
    "    data = f.read()\n",
    "\n",
    "print(data[:50])"
   ]
  },
  {
   "cell_type": "markdown",
   "metadata": {},
   "source": [
    "We don't know how this is encrypted but if you open the file you see 'fl4g' a bunch.... so let's assume it's xor"
   ]
  },
  {
   "cell_type": "code",
   "execution_count": 11,
   "metadata": {},
   "outputs": [],
   "source": [
    "def bxor(ba1, ba2):\n",
    "    \"\"\" XOR two byte strings \"\"\"\n",
    "    return bytes([_a ^ _b for _a, _b in zip(ba1, ba2)])"
   ]
  },
  {
   "cell_type": "markdown",
   "metadata": {},
   "source": [
    "We know the first 4 bytes are %PDF-"
   ]
  },
  {
   "cell_type": "code",
   "execution_count": 12,
   "metadata": {},
   "outputs": [
    {
     "name": "stdout",
     "output_type": "stream",
     "text": [
      "b'fl4g_'\n"
     ]
    }
   ],
   "source": [
    "print(bxor(data[0:5], b'%PDF-'))"
   ]
  },
  {
   "cell_type": "code",
   "execution_count": 13,
   "metadata": {},
   "outputs": [],
   "source": [
    "from itertools import cycle\n",
    "with open(\"./decryptedpdf.pdf\", \"wb\") as f:\n",
    "    f.write(bxor(data, cycle(b'fl4g_')))\n"
   ]
  },
  {
   "cell_type": "markdown",
   "metadata": {},
   "source": [
    "now we have a pic with the flag flag_{xOr_and_m4g1c_nUmb3rs}"
   ]
  },
  {
   "cell_type": "code",
   "execution_count": null,
   "metadata": {},
   "outputs": [],
   "source": []
  }
 ],
 "metadata": {
  "interpreter": {
   "hash": "596ac16b0cb50fbc454b656b9a41b5699e9d546d34802e5d85a577001f201c07"
  },
  "kernelspec": {
   "display_name": "Python 3.9.5 64-bit ('base': conda)",
   "language": "python",
   "name": "python3"
  },
  "language_info": {
   "codemirror_mode": {
    "name": "ipython",
    "version": 3
   },
   "file_extension": ".py",
   "mimetype": "text/x-python",
   "name": "python",
   "nbconvert_exporter": "python",
   "pygments_lexer": "ipython3",
   "version": "3.9.5"
  },
  "orig_nbformat": 4
 },
 "nbformat": 4,
 "nbformat_minor": 2
}
